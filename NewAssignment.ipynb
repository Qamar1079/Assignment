{
 "cells": [
  {
   "cell_type": "code",
   "execution_count": 2,
   "metadata": {},
   "outputs": [
    {
     "name": "stdout",
     "output_type": "stream",
     "text": [
      "[1, 2, 3]\n"
     ]
    }
   ],
   "source": [
    "a = [100, 1, 10, 2, 3, 5, 8, 13, 21, 34, 55, 98]\n",
    "\n",
    "def new_list(x):\n",
    "    new = []\n",
    "\n",
    "    for item in range(len(x)):\n",
    "        if x[item] < 5 and x[item] > 0:\n",
    "            new.append(x[item])\n",
    "    return new\n",
    "\n",
    "print(new_list(a))"
   ]
  },
  {
   "cell_type": "code",
   "execution_count": 21,
   "metadata": {},
   "outputs": [
    {
     "name": "stdout",
     "output_type": "stream",
     "text": [
      "[386, 462, 418, 344, 236, 566, 978, 328, 162, 758, 918]\n"
     ]
    }
   ],
   "source": [
    "number =[386,462,47,418,907,344,236,375,823,566,597,978,328,615,953,345,\n",
    "          399,162,758,219,918,237,412,566,826,248,866,950,626,949,687,217,\n",
    "          815,67,104,58,512,24,892,894,767,553,81,379,843,831,45,742,717,\n",
    "          958,743,527]\n",
    "\n",
    "def new_list(x):\n",
    "    new = []\n",
    "    for item in x:\n",
    "        if(item % 2 == 0):\n",
    "            new.append(item)\n",
    "        elif(item == 237):\n",
    "            break\n",
    "    return new\n",
    "\n",
    "print(new_list(number))\n"
   ]
  },
  {
   "cell_type": "code",
   "execution_count": null,
   "metadata": {},
   "outputs": [],
   "source": []
  }
 ],
 "metadata": {
  "kernelspec": {
   "display_name": "Python 3",
   "language": "python",
   "name": "python3"
  },
  "language_info": {
   "codemirror_mode": {
    "name": "ipython",
    "version": 3
   },
   "file_extension": ".py",
   "mimetype": "text/x-python",
   "name": "python",
   "nbconvert_exporter": "python",
   "pygments_lexer": "ipython3",
   "version": "3.7.3"
  }
 },
 "nbformat": 4,
 "nbformat_minor": 2
}
