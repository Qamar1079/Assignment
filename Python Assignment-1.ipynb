{
 "cells": [
  {
   "cell_type": "code",
   "execution_count": 3,
   "metadata": {},
   "outputs": [
    {
     "name": "stdout",
     "output_type": "stream",
     "text": [
      "Twinkle,Twinkle,little star,\n",
      "\thow i wounder what you are!\n",
      "\t\tup above the world so high,\n",
      "\t\tLike a Diamond in the sky,\n",
      "Twinkle,Twinkle,little star,\n",
      "\thow i wounder what you are!,\n"
     ]
    }
   ],
   "source": [
    "# Question-1 \n",
    "#Method 1\n",
    "print(\"Twinkle,Twinkle,little star,\")\n",
    "print(\"\\thow i wounder what you are!\")\n",
    "print(\"\\t\\tup above the world so high,\")\n",
    "print(\"\\t\\tLike a Diamond in the sky,\")\n",
    "print(\"Twinkle,Twinkle,little star,\")\n",
    "print(\"\\thow i wounder what you are!,\")"
   ]
  },
  {
   "cell_type": "code",
   "execution_count": 4,
   "metadata": {},
   "outputs": [
    {
     "name": "stdout",
     "output_type": "stream",
     "text": [
      "Twinkle,Twinkle,little star,\n",
      "              how i wounder what you are!\n",
      "                 up above the world so high,\n",
      "                 Like a Diamond in the sky,\n",
      "         Twinkle,Twinkle,little star\n",
      "              how i wounder what you are\n"
     ]
    }
   ],
   "source": [
    "# Question-1\n",
    "#method 2\n",
    "print('''Twinkle,Twinkle,little star,\n",
    "              how i wounder what you are!\n",
    "                 up above the world so high,\n",
    "                 Like a Diamond in the sky,\n",
    "         Twinkle,Twinkle,little star\n",
    "              how i wounder what you are''')"
   ]
  },
  {
   "cell_type": "code",
   "execution_count": 5,
   "metadata": {},
   "outputs": [
    {
     "name": "stdout",
     "output_type": "stream",
     "text": [
      "3.7.3\n"
     ]
    }
   ],
   "source": [
    "# Question-2\n",
    "from platform import python_version\n",
    "print(python_version())"
   ]
  },
  {
   "cell_type": "code",
   "execution_count": 19,
   "metadata": {},
   "outputs": [
    {
     "name": "stdout",
     "output_type": "stream",
     "text": [
      "now = 2019-09-24 09:46:53.603708\n",
      "date and time = 24/09/2019 09:46:53\n"
     ]
    }
   ],
   "source": [
    "# Question-3 \n",
    "from datetime import datetime\n",
    "now = datetime.now()\n",
    "print(\"now =\", now)\n",
    "\n",
    "dt_string = now.strftime(\"%d/%m/%Y %H:%M:%S\")\n",
    "print(\"date and time =\", dt_string)\n"
   ]
  },
  {
   "cell_type": "code",
   "execution_count": 31,
   "metadata": {},
   "outputs": [
    {
     "name": "stdout",
     "output_type": "stream",
     "text": [
      "Enter the radius of circle 1.1\n",
      "Area = 3.8013271108436504\n"
     ]
    }
   ],
   "source": [
    "#Qustion 4\n",
    "from math import pi\n",
    "radius = float(input(\"Enter the radius of circle \"))\n",
    "print(\"Area =\",pi * radius * radius)\n"
   ]
  },
  {
   "cell_type": "code",
   "execution_count": 32,
   "metadata": {},
   "outputs": [
    {
     "name": "stdout",
     "output_type": "stream",
     "text": [
      "Enter your First Name Qamar\n",
      "Enter your last Name Munir\n",
      "Munir Qamar\n"
     ]
    }
   ],
   "source": [
    "#Qustion 5\n",
    "first_name =input(\"Enter your First Name \")\n",
    "last_name  =input(\"Enter your last Name \")\n",
    "temp = first_name\n",
    "first_name = last_name\n",
    "last_name = temp\n",
    "print(first_name,last_name)"
   ]
  },
  {
   "cell_type": "code",
   "execution_count": 35,
   "metadata": {},
   "outputs": [
    {
     "name": "stdout",
     "output_type": "stream",
     "text": [
      "Enter comma seprated number 1,2,3\n",
      "list: ['1', '2', '3']\n",
      "touple: ('1', '2', '3')\n"
     ]
    }
   ],
   "source": [
    "#Qustion 6\n",
    "str1 =input(\"Enter comma seprated number \")\n",
    "str2= str1.replace(\",\", \"\")\n",
    "a = list(str2)\n",
    "b = tuple(str2)\n",
    "print(\"list:\" ,a)\n",
    "print(\"touple:\" ,b)"
   ]
  },
  {
   "cell_type": "code",
   "execution_count": 41,
   "metadata": {},
   "outputs": [
    {
     "name": "stdout",
     "output_type": "stream",
     "text": [
      "0\n"
     ]
    }
   ],
   "source": [
    "#Qustion 7\n",
    "n = 20\n",
    "d = {\"x\":200}\n",
    "print(type(n)())\n",
    "\n"
   ]
  },
  {
   "cell_type": "code",
   "execution_count": 42,
   "metadata": {},
   "outputs": [
    {
     "name": "stdout",
     "output_type": "stream",
     "text": [
      "[386, 462, 418, 344, 236, 566, 978, 328, 162, 758, 918]\n"
     ]
    }
   ],
   "source": [
    "#Qustion 8\n",
    "number =[386,462,47,418,907,344,236,375,823,566,597,978,328,615,953,345,\n",
    "          399,162,758,219,918,237,412,566,826,248,866,950,626,949,687,217,\n",
    "          815,67,104,58,512,24,892,894,767,553,81,379,843,831,45,742,717,\n",
    "          958,743,527]\n",
    "\n",
    "def new_list(x):\n",
    "    new = []\n",
    "    for item in x:\n",
    "        if(item % 2 == 0):\n",
    "            new.append(item)\n",
    "        elif(item == 237):\n",
    "            break\n",
    "    return new\n",
    "\n",
    "print(new_list(number))\n",
    "\n"
   ]
  },
  {
   "cell_type": "code",
   "execution_count": 43,
   "metadata": {},
   "outputs": [
    {
     "name": "stdout",
     "output_type": "stream",
     "text": [
      "\n",
      "List of directories in sys module:\n",
      "['C:\\\\Users\\\\Qamar Munir\\\\Desktop\\\\Practice', 'C:\\\\Users\\\\Qamar Munir\\\\Anaconda3\\\\python37.zip', 'C:\\\\Users\\\\Qamar Munir\\\\Anaconda3\\\\DLLs', 'C:\\\\Users\\\\Qamar Munir\\\\Anaconda3\\\\lib', 'C:\\\\Users\\\\Qamar Munir\\\\Anaconda3', '', 'C:\\\\Users\\\\Qamar Munir\\\\Anaconda3\\\\lib\\\\site-packages', 'C:\\\\Users\\\\Qamar Munir\\\\Anaconda3\\\\lib\\\\site-packages\\\\win32', 'C:\\\\Users\\\\Qamar Munir\\\\Anaconda3\\\\lib\\\\site-packages\\\\win32\\\\lib', 'C:\\\\Users\\\\Qamar Munir\\\\Anaconda3\\\\lib\\\\site-packages\\\\Pythonwin', 'C:\\\\Users\\\\Qamar Munir\\\\Anaconda3\\\\lib\\\\site-packages\\\\IPython\\\\extensions', 'C:\\\\Users\\\\Qamar Munir\\\\.ipython']\n",
      "\n",
      "List of directories in os module:\n",
      "<module 'ntpath' from 'C:\\\\Users\\\\Qamar Munir\\\\Anaconda3\\\\lib\\\\ntpath.py'>\n"
     ]
    }
   ],
   "source": [
    "#Qustion 9\n",
    "import sys\n",
    "print(\"\\nList of directories in sys module:\")\n",
    "print(sys.path)\n",
    "print(\"\\nList of directories in os module:\")\n",
    "import os\n",
    "print(os.path)"
   ]
  }
 ],
 "metadata": {
  "kernelspec": {
   "display_name": "Python 3",
   "language": "python",
   "name": "python3"
  },
  "language_info": {
   "codemirror_mode": {
    "name": "ipython",
    "version": 3
   },
   "file_extension": ".py",
   "mimetype": "text/x-python",
   "name": "python",
   "nbconvert_exporter": "python",
   "pygments_lexer": "ipython3",
   "version": "3.7.3"
  }
 },
 "nbformat": 4,
 "nbformat_minor": 2
}
